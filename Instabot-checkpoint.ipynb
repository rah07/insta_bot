{
 "cells": [
  {
   "cell_type": "markdown",
   "metadata": {},
   "source": [
    "# Part 1"
   ]
  },
  {
   "cell_type": "code",
   "execution_count": null,
   "metadata": {},
   "outputs": [],
   "source": [
    "import selenium\n",
    "from selenium.webdriver.support.ui import WebDriverWait\n",
    "from selenium.webdriver.support import expected_conditions as EC\n",
    "from selenium.webdriver.common.by import By\n",
    "from selenium import webdriver\n",
    "from selenium.webdriver.common.keys import Keys\n",
    "driver=webdriver.Chrome()\n",
    "driver.get('https://instagram.com')\n",
    "wait=WebDriverWait(driver,10)\n",
    "user_name=wait.until(EC.presence_of_element_located((By.XPATH,'//div[@class=\"-MzZI\"]//input')))\n",
    "user_name.send_keys('nature_mountain_paradise')\n",
    "password=driver.find_elements_by_xpath(\"//div[@class='-MzZI']//input\")\n",
    "password[1].send_keys('naturepass@123#')\n",
    "password[1].submit()\n"
   ]
  },
  {
   "cell_type": "code",
   "execution_count": null,
   "metadata": {},
   "outputs": [],
   "source": [
    "verification_code=driver.find_element_by_xpath(\"//div[@class='gi2oZ']//input\")"
   ]
  },
  {
   "cell_type": "code",
   "execution_count": null,
   "metadata": {},
   "outputs": [],
   "source": [
    "verification_code.send_keys('953821')"
   ]
  },
  {
   "cell_type": "code",
   "execution_count": null,
   "metadata": {},
   "outputs": [],
   "source": [
    "confirm=driver.find_element_by_xpath(\"//div[contains(@class,'Igw0E')]//button\")\n"
   ]
  },
  {
   "cell_type": "code",
   "execution_count": null,
   "metadata": {},
   "outputs": [],
   "source": [
    "confirm.click()"
   ]
  },
  {
   "cell_type": "code",
   "execution_count": null,
   "metadata": {},
   "outputs": [],
   "source": [
    "notification=driver.find_elements_by_xpath('//div[@class=\"mt3GC\"]//button')"
   ]
  },
  {
   "cell_type": "code",
   "execution_count": null,
   "metadata": {},
   "outputs": [],
   "source": [
    "notification[1].click()"
   ]
  },
  {
   "cell_type": "markdown",
   "metadata": {},
   "source": [
    "# 2"
   ]
  },
  {
   "cell_type": "code",
   "execution_count": null,
   "metadata": {},
   "outputs": [],
   "source": [
    "search_bar=driver.find_element_by_xpath(\"//div[contains(@class,'LWmhU')]//input\")"
   ]
  },
  {
   "cell_type": "code",
   "execution_count": null,
   "metadata": {},
   "outputs": [],
   "source": [
    "search_bar.send_keys('food')"
   ]
  },
  {
   "cell_type": "code",
   "execution_count": null,
   "metadata": {},
   "outputs": [],
   "source": [
    "import time\n",
    "f  = driver.find_element_by_xpath(\"//div[@class='fuqBx']\")\n",
    "instahandler = []\n",
    "scroll = 0\n",
    "\n",
    "follower = driver.find_elements_by_xpath('//div[@class=\"uyeeR\"]/span')\n",
    "for i in follower:\n",
    "    instahandler.append(i.text)\n",
    "    if i.text.startswith('#'):\n",
    "        instahandler.remove(i.text)    \n",
    "\n",
    "    \n",
    "driver.execute_script('arguments[0].scrollTop = arguments[0].scrollTop + arguments[0].offsetHeight;', f)\n",
    "time.sleep(2)\n",
    "    \n",
    "\n",
    "for i in instahandler:\n",
    "    print(i)"
   ]
  },
  {
   "cell_type": "code",
   "execution_count": null,
   "metadata": {},
   "outputs": [],
   "source": [
    "from selenium.webdriver.common.keys import Keys\n",
    "search_bar.send_keys(Keys.ENTER)"
   ]
  },
  {
   "cell_type": "markdown",
   "metadata": {},
   "source": [
    "# 3"
   ]
  },
  {
   "cell_type": "code",
   "execution_count": null,
   "metadata": {},
   "outputs": [],
   "source": [
    "search_bar=driver.find_element_by_xpath(\"//div[contains(@class,'LWmhU')]//input\")\n",
    "search_bar.send_keys('So Delhi')"
   ]
  },
  {
   "cell_type": "code",
   "execution_count": null,
   "metadata": {},
   "outputs": [],
   "source": [
    "click_search_bar=driver.find_element_by_xpath(\"//div[@class='fuqBx']/a\").click()"
   ]
  },
  {
   "cell_type": "code",
   "execution_count": null,
   "metadata": {},
   "outputs": [],
   "source": [
    "follow=driver.find_element_by_xpath(\"//span[contains(@class,'_1OSdk')]/button\").click()"
   ]
  },
  {
   "cell_type": "code",
   "execution_count": null,
   "metadata": {},
   "outputs": [],
   "source": [
    "unfollow=driver.find_element_by_xpath('//div[@class=\"mt3GC\"]/button').click()"
   ]
  },
  {
   "cell_type": "markdown",
   "metadata": {},
   "source": [
    "# 4"
   ]
  },
  {
   "cell_type": "code",
   "execution_count": null,
   "metadata": {},
   "outputs": [],
   "source": [
    "search_bar=driver.find_element_by_xpath(\"//div[contains(@class,'LWmhU')]//input\")\n",
    "search_bar.send_keys('dilsefoodie')"
   ]
  },
  {
   "cell_type": "code",
   "execution_count": null,
   "metadata": {},
   "outputs": [],
   "source": [
    "click_search_bar=driver.find_element_by_xpath(\"//div[@class='fuqBx']/a\").click()"
   ]
  },
  {
   "cell_type": "code",
   "execution_count": null,
   "metadata": {},
   "outputs": [],
   "source": [
    "import time\n",
    "search_bar_output=driver.find_element_by_xpath('//div[@class=\"_9AhH0\"]').click()\n",
    "for i in range(30):\n",
    "    like=driver.find_element_by_xpath('//span[contains(@class,\"fr66n\")]').click()\n",
    "    next_post=driver.find_element_by_xpath('//div[@class=\"DdSX2\"]/a[@class=\" _65Bje  coreSpriteRightPaginationArrow\"]').click()\n",
    "    time.sleep(4)"
   ]
  },
  {
   "cell_type": "code",
   "execution_count": null,
   "metadata": {},
   "outputs": [],
   "source": [
    "####DONE"
   ]
  },
  {
   "cell_type": "markdown",
   "metadata": {},
   "source": [
    "# 5"
   ]
  },
  {
   "cell_type": "code",
   "execution_count": null,
   "metadata": {},
   "outputs": [],
   "source": [
    "driver.back()"
   ]
  },
  {
   "cell_type": "code",
   "execution_count": null,
   "metadata": {},
   "outputs": [],
   "source": [
    "close_popup=driver.find_elements_by_xpath('//div[contains(@class,\"Igw0E\")]')"
   ]
  },
  {
   "cell_type": "code",
   "execution_count": null,
   "metadata": {},
   "outputs": [],
   "source": [
    "close_popup[27].click()"
   ]
  },
  {
   "cell_type": "code",
   "execution_count": null,
   "metadata": {},
   "outputs": [],
   "source": [
    "follower=driver.find_element_by_xpath(\"//ul[@class='k9GMp ']//li[2]\").click()"
   ]
  },
  {
   "cell_type": "code",
   "execution_count": null,
   "metadata": {},
   "outputs": [],
   "source": [
    "import time\n",
    "f  = driver.find_element_by_xpath(\"//div[@class='isgrP']\")\n",
    "followers_1 = []\n",
    "scroll = 0\n",
    "while scroll < 15:\n",
    "    follower = driver.find_elements_by_xpath(\"//*[contains(@class, 'd7ByH')]\")\n",
    "    for i in follower:\n",
    "        followers_1.append(i.text)\n",
    "    driver.execute_script('arguments[0].scrollTop = arguments[0].scrollTop + arguments[0].offsetHeight;', f)\n",
    "    time.sleep(2)\n",
    "    scroll += 1\n",
    "\n",
    "    "
   ]
  },
  {
   "cell_type": "code",
   "execution_count": null,
   "metadata": {},
   "outputs": [],
   "source": []
  },
  {
   "cell_type": "code",
   "execution_count": null,
   "metadata": {},
   "outputs": [],
   "source": [
    "import time\n",
    "if driver.find_element_by_xpath(\"//span[contains(@class,'_1OSdk')]/button\").text == '':\n",
    "    print(\"Already Following\")\n",
    "    follow=driver.find_element_by_xpath(\"//span[contains(@class,'_1OSdk')]/button\").click()\n",
    "    time.sleep(5)\n",
    "    unfollow=driver.find_element_by_xpath('//div[@class=\"mt3GC\"]/button').click()\n",
    "    print('Un Follow')\n",
    "\n",
    "else:\n",
    "    follow=driver.find_element_by_xpath(\"//span[contains(@class,'_1OSdk')]/button\").click()\n",
    "    print('Following')\n",
    "\n",
    "\n",
    "# if driver.find_element_by_xpath(\"//span[contains(@class,'_1OSdk')]/button\").text == '' :\n",
    "#     follow=driver.find_element_by_xpath(\"//span[contains(@class,'_1OSdk')]/button\").click()\n",
    "#     time.sleep(5)\n",
    "#     unfollow=driver.find_element_by_xpath('//div[@class=\"mt3GC\"]/button').click()\n",
    "\n",
    "# else:\n",
    "#     print(\"Already unfollowed\")\n",
    "\n"
   ]
  },
  {
   "cell_type": "code",
   "execution_count": null,
   "metadata": {},
   "outputs": [],
   "source": [
    "while (len(follower_name) > 500):\n",
    "    actionChain.key_down(Keys.SPACE).key_up(Keys.SPACE).perform()\n",
    "    follower_name = len(follower_name.find_elements_by_css_selector('li'))\n",
    "    print(follower_name)\n",
    "       "
   ]
  },
  {
   "cell_type": "code",
   "execution_count": null,
   "metadata": {},
   "outputs": [],
   "source": [
    "driver.find_elements_by_xpath(\"//span[contains(@class,'vBF20')]\")"
   ]
  },
  {
   "cell_type": "code",
   "execution_count": null,
   "metadata": {},
   "outputs": [],
   "source": [
    "close_popup=driver.find_element_by_xpath('//span[contains(@class,\"_1OSdk\")]/button').text"
   ]
  },
  {
   "cell_type": "code",
   "execution_count": null,
   "metadata": {},
   "outputs": [],
   "source": [
    "driver.find_element_by_xpath(\"//div[@class='_9AhH0']\")"
   ]
  },
  {
   "cell_type": "code",
   "execution_count": null,
   "metadata": {},
   "outputs": [],
   "source": [
    "close_popup"
   ]
  },
  {
   "cell_type": "code",
   "execution_count": null,
   "metadata": {},
   "outputs": [],
   "source": []
  },
  {
   "cell_type": "code",
   "execution_count": null,
   "metadata": {},
   "outputs": [],
   "source": []
  },
  {
   "cell_type": "code",
   "execution_count": null,
   "metadata": {},
   "outputs": [],
   "source": []
  },
  {
   "cell_type": "code",
   "execution_count": null,
   "metadata": {},
   "outputs": [],
   "source": []
  },
  {
   "cell_type": "markdown",
   "metadata": {},
   "source": [
    "# Insta Bot 2"
   ]
  },
  {
   "cell_type": "code",
   "execution_count": null,
   "metadata": {},
   "outputs": [],
   "source": [
    "import time\n",
    "search_bar_output=driver.find_element_by_xpath('//div[@class=\"_9AhH0\"]').click()\n",
    "i=0\n",
    "count=0\n",
    "while i<3:\n",
    "\n",
    "    if count==30:\n",
    "        print('Liked All(30)!')\n",
    "        break\n",
    "    try:\n",
    "        like=driver.find_element_by_xpath('//span[contains(@class,\"fr66n\")]').click()\n",
    "    \n",
    "        next_post=driver.find_element_by_xpath('//div[@class=\"DdSX2\"]/a[@class=\" _65Bje  coreSpriteRightPaginationArrow\"]').click()\n",
    "        time.sleep(3)\n",
    "        print('liked')\n",
    "        i=i+1\n",
    "    \n",
    "    except NoSuchElementException:\n",
    "        print('Already Liked!')\n",
    "        driver.back()\n",
    "        count+=1"
   ]
  },
  {
   "cell_type": "code",
   "execution_count": null,
   "metadata": {},
   "outputs": [],
   "source": [
    "import time\n",
    "search_bar_output=driver.find_element_by_xpath('//div[@class=\"_9AhH0\"]').click()\n",
    "for i in range(3):\n",
    "    like=driver.find_element_by_xpath('//span[contains(@class,\"fr66n\")]').click()\n",
    "    next_post=driver.find_element_by_xpath('//div[@class=\"DdSX2\"]/a[@class=\" _65Bje  coreSpriteRightPaginationArrow\"]').click()\n",
    "    time.sleep(3)"
   ]
  },
  {
   "cell_type": "code",
   "execution_count": null,
   "metadata": {},
   "outputs": [],
   "source": []
  },
  {
   "cell_type": "code",
   "execution_count": null,
   "metadata": {},
   "outputs": [],
   "source": [
    "search_bar=driver.find_element_by_xpath(\"//div[contains(@class,'LWmhU')]//input\")"
   ]
  },
  {
   "cell_type": "code",
   "execution_count": null,
   "metadata": {},
   "outputs": [],
   "source": [
    "search_bar.send_keys('food')"
   ]
  },
  {
   "cell_type": "code",
   "execution_count": null,
   "metadata": {},
   "outputs": [],
   "source": [
    "import time\n",
    "f  = driver.find_element_by_xpath(\"//div[@class='fuqBx']\")\n",
    "instahandler = []\n",
    "scroll = 0\n",
    "\n",
    "follower = driver.find_elements_by_xpath('//div[@class=\"uyeeR\"]/span')\n",
    "for i in follower:\n",
    "    if len(instahandler) >= 10:\n",
    "        break\n",
    "    instahandler.append(i.text)\n",
    "    if i.text.startswith('#'):\n",
    "        instahandler.remove(i.text)    \n",
    "\n",
    "    \n",
    "driver.execute_script('arguments[0].scrollTop = arguments[0].scrollTop + arguments[0].offsetHeight;', f)\n",
    "time.sleep(2)\n",
    "    \n",
    "\n",
    "# for i in instahandler:\n",
    "#     driver.get('https://www.instagram.com/'+i)\n",
    "#     driver.close\n",
    "#     time.sleep(5)"
   ]
  },
  {
   "cell_type": "code",
   "execution_count": null,
   "metadata": {},
   "outputs": [],
   "source": [
    "for i in instahandler:\n",
    "    print(i)"
   ]
  },
  {
   "cell_type": "code",
   "execution_count": null,
   "metadata": {},
   "outputs": [],
   "source": [
    "# follower=driver.find_element_by_xpath(\"//ul[@class='k9GMp ']//li[2]//span\")\n",
    "# follower.text"
   ]
  },
  {
   "cell_type": "code",
   "execution_count": null,
   "metadata": {},
   "outputs": [],
   "source": [
    "# import time\n",
    "# f  = driver.find_element_by_xpath(\"//div[@class='fuqBx']\")\n",
    "# instahandler = []\n",
    "# scroll = 0\n",
    "\n",
    "# follower = driver.find_elements_by_xpath('//div[@class=\"uyeeR\"]/span')\n",
    "# for i in follower:\n",
    "#     if len(instahandler) >= 10:\n",
    "#         break\n",
    "#     instahandler.append(i.text)\n",
    "#     if i.text.startswith('#'):\n",
    "#         instahandler.remove(i.text)    \n",
    "\n",
    "    \n",
    "# driver.execute_script('arguments[0].scrollTop = arguments[0].scrollTop + arguments[0].offsetHeight;', f)\n",
    "# time.sleep(2)\n",
    "    \n",
    "\n",
    "# for i in instahandler:\n",
    "#     driver.get('https://www.instagram.com/'+i)\n",
    "#     driver.close\n",
    "#     time.sleep(5)"
   ]
  },
  {
   "cell_type": "code",
   "execution_count": null,
   "metadata": {},
   "outputs": [],
   "source": [
    "import pandas as pd\n",
    "from selenium.webdriver.support.ui import WebDriverWait\n",
    "from selenium.webdriver.support import expected_conditions as EC\n",
    "from selenium.webdriver.common.by import By\n",
    "follower_count=[]\n",
    "for i in range(len(instahandler)):\n",
    "    driver.get('https://www.instagram.com/'+instahandler[i])\n",
    "    follower=wait.until(EC.presence_of_element_located((By.XPATH,\"//ul[@class='k9GMp ']//li[2]//span\")))\n",
    "    follower_count.append(follower.text)\n",
    "\n",
    "    \n",
    "    \n"
   ]
  },
  {
   "cell_type": "code",
   "execution_count": null,
   "metadata": {},
   "outputs": [],
   "source": [
    "data_dict ={\"username\":pd.Series(instahandler),'Follower':pd.Series(follower_count)}"
   ]
  },
  {
   "cell_type": "code",
   "execution_count": null,
   "metadata": {},
   "outputs": [],
   "source": [
    "df = pd.DataFrame(data_dict)\n",
    "df"
   ]
  },
  {
   "cell_type": "code",
   "execution_count": null,
   "metadata": {},
   "outputs": [],
   "source": [
    "df['Follower'] = df['Follower'].str.replace('k','000')\n",
    "df"
   ]
  },
  {
   "cell_type": "code",
   "execution_count": null,
   "metadata": {},
   "outputs": [],
   "source": [
    "df['Follower'] = df['Follower'].str.replace('m','000000')"
   ]
  },
  {
   "cell_type": "code",
   "execution_count": null,
   "metadata": {},
   "outputs": [],
   "source": [
    "for i in range(len(df['Follower'])):\n",
    "    if '.' in df.Follower[i]:\n",
    "        df.Follower[i]=df.Follower[i][:-1:]\n",
    "        \n",
    "        \n",
    "        \n",
    "df\n",
    "        "
   ]
  },
  {
   "cell_type": "code",
   "execution_count": null,
   "metadata": {},
   "outputs": [],
   "source": [
    "df['Follower'] = df['Follower'].str.replace('.','')\n",
    "df"
   ]
  },
  {
   "cell_type": "code",
   "execution_count": null,
   "metadata": {},
   "outputs": [],
   "source": [
    "df['Follower']=df['Follower'].astype(int)"
   ]
  },
  {
   "cell_type": "code",
   "execution_count": null,
   "metadata": {},
   "outputs": [],
   "source": [
    "sorted_=df.sort_values('Follower',ascending=False)"
   ]
  },
  {
   "cell_type": "code",
   "execution_count": null,
   "metadata": {},
   "outputs": [],
   "source": [
    "folo=sorted_[:5:]\n",
    "for i in folo.index:\n",
    "    print(folo['username'][i])"
   ]
  },
  {
   "cell_type": "code",
   "execution_count": null,
   "metadata": {},
   "outputs": [],
   "source": [
    "# import pandas as pd\n",
    "# import datetime\n",
    "# date1=driver.find_element_by_xpath('//time[contains(@class,\"Nzb55\")]')"
   ]
  },
  {
   "cell_type": "code",
   "execution_count": null,
   "metadata": {},
   "outputs": [],
   "source": [
    "\n",
    "# li=[]\n",
    "# for i in date1:\n",
    "#     li.append(i.get_attribute('datetime'))\n",
    "# d=date1.get_attribute('datetime')    "
   ]
  },
  {
   "cell_type": "code",
   "execution_count": null,
   "metadata": {},
   "outputs": [],
   "source": []
  },
  {
   "cell_type": "code",
   "execution_count": null,
   "metadata": {},
   "outputs": [],
   "source": [
    "# data_dict={'date':pd.Series(d)}\n"
   ]
  },
  {
   "cell_type": "code",
   "execution_count": null,
   "metadata": {},
   "outputs": [],
   "source": [
    "# df=pd.DataFrame(data_dict)"
   ]
  },
  {
   "cell_type": "code",
   "execution_count": null,
   "metadata": {},
   "outputs": [],
   "source": [
    "import time\n",
    "import datetime\n",
    "import pandas as pd\n",
    "d={}\n",
    "count=0\n",
    "for i in folo.index:\n",
    "    driver.get('https://www.instagram.com/'+folo['username'][i])\n",
    "    time.sleep(5)\n",
    "    search_bar_output=driver.find_element_by_xpath('//div[@class=\"_9AhH0\"]').click()\n",
    "    time.sleep(3)\n",
    "    while True:   \n",
    "        date1=driver.find_element_by_xpath('//time[contains(@class,\"_1o9PC \")]')\n",
    "        if date1.text == '4 DAYS AGO':\n",
    "            break\n",
    "    #d.append(date1.get_attribute('datetime'))    \n",
    "    #data_dict={'date_time':pd.Series(d)}\n",
    "    #df=pd.DataFrame(data_dict)\n",
    "    #data=pd.to_datetime(df['date_time'])\n",
    "        count=count+1\n",
    "        next_post=driver.find_element_by_xpath('//div[@class=\"DdSX2\"]/a[@class=\" _65Bje  coreSpriteRightPaginationArrow\"]').click()\n",
    "        time.sleep(3)\n",
    "    d[i]=count\n",
    "    driver.close\n",
    "    \n",
    "    "
   ]
  },
  {
   "cell_type": "code",
   "execution_count": null,
   "metadata": {},
   "outputs": [],
   "source": [
    "d"
   ]
  },
  {
   "cell_type": "code",
   "execution_count": null,
   "metadata": {},
   "outputs": [],
   "source": [
    "df=pd.DataFrame(data_dict)"
   ]
  },
  {
   "cell_type": "code",
   "execution_count": null,
   "metadata": {},
   "outputs": [],
   "source": [
    "data=pd.to_datetime(df['date_time'])\n",
    "data"
   ]
  },
  {
   "cell_type": "code",
   "execution_count": null,
   "metadata": {},
   "outputs": [],
   "source": [
    "import datetime\n",
    "for d in data:\n",
    "    print(d.date())"
   ]
  },
  {
   "cell_type": "code",
   "execution_count": null,
   "metadata": {},
   "outputs": [],
   "source": [
    "for i in df['date_time']:\n",
    "    print(i.date())"
   ]
  },
  {
   "cell_type": "code",
   "execution_count": null,
   "metadata": {},
   "outputs": [],
   "source": [
    "df = pd.DataFrame({'d': pd.Series(d)})"
   ]
  },
  {
   "cell_type": "code",
   "execution_count": null,
   "metadata": {},
   "outputs": [],
   "source": [
    "data"
   ]
  },
  {
   "cell_type": "code",
   "execution_count": null,
   "metadata": {},
   "outputs": [],
   "source": [
    "df['new_date'] = [d.date() for d in df['d']]\n",
    "df['new_time'] = [d.time() for d in df['d']]\n"
   ]
  },
  {
   "cell_type": "code",
   "execution_count": null,
   "metadata": {},
   "outputs": [],
   "source": [
    "df['new_date']"
   ]
  },
  {
   "cell_type": "code",
   "execution_count": null,
   "metadata": {},
   "outputs": [],
   "source": [
    "search_bar_output=driver.find_element_by_xpath('//div[@class=\"_9AhH0\"]').click()\n",
    "date1=driver.find_element_by_xpath('//time[contains(@class,\"Nzb55\")]')"
   ]
  },
  {
   "cell_type": "code",
   "execution_count": null,
   "metadata": {},
   "outputs": [],
   "source": [
    "date1=driver.find_element_by_xpath('//time[contains(@class,\"_1o9PC\")]')\n",
    "date1.get_attribute('outerHTML')"
   ]
  },
  {
   "cell_type": "code",
   "execution_count": null,
   "metadata": {},
   "outputs": [],
   "source": [
    "date1.text"
   ]
  },
  {
   "cell_type": "code",
   "execution_count": null,
   "metadata": {},
   "outputs": [],
   "source": []
  },
  {
   "cell_type": "code",
   "execution_count": null,
   "metadata": {},
   "outputs": [],
   "source": [
    "search_bar_output=driver.find_element_by_xpath('//div[@class=\"_9AhH0\"]').click()\n",
    "hastag=driver.find_element_by_xpath('//a[@class=\" xil3i\"]')"
   ]
  },
  {
   "cell_type": "code",
   "execution_count": null,
   "metadata": {},
   "outputs": [],
   "source": [
    "date1=driver.find_elements_by_xpath('//a[@class=\" xil3i\"]')"
   ]
  },
  {
   "cell_type": "code",
   "execution_count": null,
   "metadata": {},
   "outputs": [],
   "source": [
    "for i in range(len(date1)):\n",
    "    print(date1[i].text)"
   ]
  },
  {
   "cell_type": "code",
   "execution_count": null,
   "metadata": {},
   "outputs": [],
   "source": [
    "#hastag\n",
    "import time\n",
    "import datetime\n",
    "import pandas as pd\n",
    "tag=[]\n",
    "count=0\n",
    "for i in folo.index:\n",
    "    driver.get('https://www.instagram.com/'+folo['username'][i])\n",
    "    time.sleep(5)\n",
    "    search_bar_output=driver.find_element_by_xpath('//div[@class=\"_9AhH0\"]').click()\n",
    "    time.sleep(5)\n",
    "    while True:\n",
    "    \n",
    "    \n",
    "        if count==1:\n",
    "            break\n",
    "        hastag=driver.find_elements_by_xpath('//a[@class=\" xil3i\"]')\n",
    "        for i in range(len(hastag)):\n",
    "            tag.append(hastag[i].text)\n",
    "        next_post=driver.find_element_by_xpath('//div[@class=\"DdSX2\"]/a[@class=\" _65Bje  coreSpriteRightPaginationArrow\"]').click()\n",
    "        time.sleep(5)\n",
    "    \n",
    "        count=count+1\n",
    "        \n",
    "    count=0\n",
    "        \n",
    "\n",
    "    \n",
    "        \n",
    "    \n",
    "    \n",
    "    "
   ]
  },
  {
   "cell_type": "code",
   "execution_count": null,
   "metadata": {},
   "outputs": [],
   "source": [
    "tag\n",
    "       "
   ]
  },
  {
   "cell_type": "code",
   "execution_count": null,
   "metadata": {},
   "outputs": [],
   "source": [
    "frequency=driver.find_element_by_xpath(\"//span[@class='g47SY ' ]\")"
   ]
  },
  {
   "cell_type": "code",
   "execution_count": null,
   "metadata": {},
   "outputs": [],
   "source": [
    "d={}\n",
    "for i in tag:\n",
    "    search_bar=driver.find_element_by_xpath(\"//div[contains(@class,'LWmhU')]//input\")\n",
    "    search_bar.send_keys(i)\n",
    "    time.sleep(4)\n",
    "    click_search_bar=driver.find_element_by_xpath(\"//div[@class='fuqBx']/a\").click()\n",
    "    time.sleep(3)\n",
    "    frequency=driver.find_element_by_xpath(\"//span[@class='g47SY ' ]\")\n",
    "    d[i]=frequency.text\n",
    "    driver.back()\n",
    "    time.sleep(3)\n",
    "    "
   ]
  },
  {
   "cell_type": "code",
   "execution_count": null,
   "metadata": {},
   "outputs": [],
   "source": [
    "d"
   ]
  },
  {
   "cell_type": "code",
   "execution_count": null,
   "metadata": {},
   "outputs": [],
   "source": [
    "len(freq)"
   ]
  },
  {
   "cell_type": "code",
   "execution_count": null,
   "metadata": {},
   "outputs": [],
   "source": [
    "tag = list(dict.fromkeys(tag))\n",
    "print(tag)\n",
    "len(tag)"
   ]
  },
  {
   "cell_type": "code",
   "execution_count": null,
   "metadata": {},
   "outputs": [],
   "source": [
    "tag = list(set(tag))\n",
    "print(tag)\n",
    "len(tag)"
   ]
  },
  {
   "cell_type": "code",
   "execution_count": null,
   "metadata": {},
   "outputs": [],
   "source": [
    "d={}\n",
    "\n",
    "d['ke']='vau'"
   ]
  },
  {
   "cell_type": "code",
   "execution_count": null,
   "metadata": {},
   "outputs": [],
   "source": [
    "d"
   ]
  },
  {
   "cell_type": "code",
   "execution_count": null,
   "metadata": {},
   "outputs": [],
   "source": [
    "d['k']='jias'"
   ]
  },
  {
   "cell_type": "code",
   "execution_count": null,
   "metadata": {},
   "outputs": [],
   "source": [
    "d"
   ]
  },
  {
   "cell_type": "code",
   "execution_count": null,
   "metadata": {},
   "outputs": [],
   "source": [
    "hastag=driver.find_elements_by_xpath('//a[@class=\" xil3i\"]')\n",
    "for i in range(len(hastag)):\n",
    "    print(hastag[i].text)\n"
   ]
  },
  {
   "cell_type": "code",
   "execution_count": null,
   "metadata": {},
   "outputs": [],
   "source": [
    "from selenium import webdriver\n",
    "from selenium.webdriver.common.keys import Keys\n",
    "from time import sleep, strftime\n",
    "from random import randint\n",
    "import pandas as pd\n",
    "\n",
    "hashtag_list = ['travelblog','travelblogger','traveler','naturelover']\n",
    "\n",
    "#prev_user_list = [] #- if it's the first time you run it, use this line and comment the two below\n",
    "prev_user_list = pd.read_csv('20200516-023522_users_followed_list.csv', delimiter=',').iloc[:,1:2] # useful to build a user log\n",
    "prev_user_list = list(prev_user_list['0'])\n",
    "\n",
    "new_followed = []\n",
    "tag = -1\n",
    "followed = 0\n",
    "likes = 0\n",
    "comments = 0\n",
    "\n",
    "for hashtag in hashtag_list:\n",
    "    tag += 1\n",
    "    driver.get('https://www.instagram.com/explore/tags/'+ hashtag_list[tag] + '/')\n",
    "    sleep(5)\n",
    "    first_thumbnail = driver.find_element_by_xpath('//*[@id=\"react-root\"]/section/main/article/div[1]/div/div/div[1]/div[1]/a/div')\n",
    "    \n",
    "    first_thumbnail.click()\n",
    "    sleep(randint(1,2))    \n",
    "    try:        \n",
    "        for x in range(2):\n",
    "            username = driver.find_element_by_xpath('//div[@class=\"e1e1d\"]/a').text\n",
    "            prev_user_list.append(username)\n",
    "\n",
    "\n",
    "               \n",
    "            if username not in prev_user_list:\n",
    "                # If we already follow, do not unfollow\n",
    "                if driver.find_element_by_xpath('/html/body/div[3]/div/div[2]/div/article/header/div[2]/div[1]/div[2]/button').text == 'Follow':\n",
    "                    \n",
    "                    driver.find_element_by_xpath('/html/body/div[3]/div/div[2]/div/article/header/div[2]/div[1]/div[2]/button').click()\n",
    "                    \n",
    "                    new_followed.append(username)\n",
    "                    followed += 1\n",
    "\n",
    "                    # Liking the picture\n",
    "                    button_like = driver.find_element_by_xpath('/html/body/div[3]/div/div[2]/div/article/div[2]/section[1]/span[1]/button/span')\n",
    "                    \n",
    "                    button_like.click()\n",
    "                    likes += 1\n",
    "                    sleep(randint(18,25))\n",
    "\n",
    "                    # Comments and tracker\n",
    "                    comm_prob = randint(1,10)\n",
    "                    print('{}_{}: {}'.format(hashtag, x,comm_prob))\n",
    "                    if comm_prob > 7:\n",
    "                        comments += 1\n",
    "                        driver.find_element_by_xpath('/html/body/div[3]/div/div[2]/div/article/div[2]/section[1]/span[2]/button/span').click()\n",
    "                        comment_box = driver.find_element_by_xpath('/html/body/div[3]/div/div[2]/div/article/div[2]/section[3]/div/form/textarea')\n",
    "\n",
    "                        if (comm_prob < 7):\n",
    "                            comment_box.send_keys('Really cool!')\n",
    "                            sleep(1)\n",
    "                        elif (comm_prob > 6) and (comm_prob < 9):\n",
    "                            comment_box.send_keys('Nice work :)')\n",
    "                            sleep(1)\n",
    "                        elif comm_prob == 9:\n",
    "                            comment_box.send_keys('Nice gallery!!')\n",
    "                            sleep(1)\n",
    "                        elif comm_prob == 10:\n",
    "                            comment_box.send_keys('So cool! :)')\n",
    "                            sleep(1)\n",
    "                        # Enter to post comment\n",
    "                        comment_box.send_keys(Keys.ENTER)\n",
    "                        sleep(randint(22,28))\n",
    "\n",
    "                # Next picture\n",
    "                driver.find_element_by_link_text('Next').click()\n",
    "                sleep(randint(25,29))\n",
    "            else:\n",
    "                driver.find_element_by_link_text('Next').click()\n",
    "                sleep(randint(20,26))\n",
    "    # some hashtag stops refreshing photos (it may happen sometimes), it continues to the next\n",
    "    except:\n",
    "        continue\n",
    "\n",
    "for n in range(0,len(new_followed)):\n",
    "    prev_user_list.append(new_followed[n])\n",
    "    \n",
    "updated_user_df = pd.DataFrame(prev_user_list)\n",
    "updated_user_df.to_csv('{}_users_followed_list.csv'.format(strftime(\"%Y%m%d-%H%M%S\")))\n",
    "print('Liked {} photos.'.format(likes))\n",
    "print('Commented {} photos.'.format(comments))\n",
    "print('Followed {} new people.'.format(followed))"
   ]
  },
  {
   "cell_type": "code",
   "execution_count": null,
   "metadata": {},
   "outputs": [],
   "source": [
    "driver.find_element_by_xpath('//button[contains(@class,\"_5f5mN       \")]').text "
   ]
  },
  {
   "cell_type": "code",
   "execution_count": null,
   "metadata": {},
   "outputs": [],
   "source": [
    "date1=driver.find_element_by_xpath('//time[contains(@class,\"Nzb55\")]')"
   ]
  },
  {
   "cell_type": "code",
   "execution_count": null,
   "metadata": {},
   "outputs": [],
   "source": [
    "new_followed"
   ]
  },
  {
   "cell_type": "code",
   "execution_count": null,
   "metadata": {},
   "outputs": [],
   "source": [
    "prev_user_list = pd.read_csv('20200516-013722_users_followed_list.csv', delimiter=',').iloc[:,1:2] # useful to build a user log\n",
    "#prev_user_list = list(prev_user_list['0'])\n"
   ]
  },
  {
   "cell_type": "code",
   "execution_count": null,
   "metadata": {},
   "outputs": [],
   "source": [
    "prev_user_list['0']"
   ]
  },
  {
   "cell_type": "code",
   "execution_count": null,
   "metadata": {},
   "outputs": [],
   "source": []
  }
 ],
 "metadata": {
  "kernelspec": {
   "display_name": "Python 3",
   "language": "python",
   "name": "python3"
  },
  "language_info": {
   "codemirror_mode": {
    "name": "ipython",
    "version": 3
   },
   "file_extension": ".py",
   "mimetype": "text/x-python",
   "name": "python",
   "nbconvert_exporter": "python",
   "pygments_lexer": "ipython3",
   "version": "3.7.4"
  }
 },
 "nbformat": 4,
 "nbformat_minor": 2
}
